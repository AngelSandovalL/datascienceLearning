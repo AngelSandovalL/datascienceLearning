{
 "cells": [
  {
   "cell_type": "code",
   "execution_count": 1,
   "id": "2613966e",
   "metadata": {},
   "outputs": [
    {
     "name": "stdout",
     "output_type": "stream",
     "text": [
      "\r\n",
      "IPython -- An enhanced Interactive Python\r\n",
      "=========================================\r\n",
      "\r\n",
      "IPython offers a fully compatible replacement for the standard Python\r\n",
      "interpreter, with convenient shell features, special commands, command\r\n",
      "history mechanism and output results caching.\r\n",
      "\r\n",
      "At your system command line, type 'ipython -h' to see the command line\r\n",
      "options available. This document only describes interactive features.\r\n",
      "\r\n",
      "GETTING HELP\r\n",
      "------------\r\n",
      "\r\n",
      "Within IPython you have various way to access help:\r\n",
      "\r\n",
      "  ?         -> Introduction and overview of IPython's features (this screen).\r\n",
      "  object?   -> Details about 'object'.\r\n",
      "  object??  -> More detailed, verbose information about 'object'.\r\n",
      "  %quickref -> Quick reference of all IPython specific syntax and magics.\r\n",
      "  help      -> Access Python's own help system.\r\n",
      "\r\n",
      "If you are in terminal IPython you can quit this screen by pressing `q`.\r\n",
      "\r\n",
      "\r\n",
      "MAIN FEATURES\r\n",
      "-------------\r\n",
      "\r\n",
      "* Access to the standard Python help with object docstrings and the Python\n",
      "\n",
      "---Return to continue, q to quit--- \n",
      "\b\b\b\b\b\b\b\b\b\b\b\b\b\b\b\b\b\b\b\b\b\b\b\b\b\b\b\b\b\b\b\b\b\b\b\b\b                                     \b\b\b\b\b\b\b\b\b\b\b\b\b\b\b\b\b\b\b\b\b\b\b\b\b\b\b\b\b\b\b\b\b\b\b\b\b\n",
      "  manuals. Simply type 'help' (no quotes) to invoke it.\r\n",
      "\r\n",
      "* Magic commands: type %magic for information on the magic subsystem.\r\n",
      "\r\n",
      "* System command aliases, via the %alias command or the configuration file(s).\r\n",
      "\r\n",
      "* Dynamic object information:\r\n",
      "\r\n",
      "  Typing ?word or word? prints detailed information about an object. Certain\r\n",
      "  long strings (code, etc.) get snipped in the center for brevity.\r\n",
      "\r\n",
      "  Typing ??word or word?? gives access to the full information without\r\n",
      "  snipping long strings. Strings that are longer than the screen are printed\r\n",
      "  through the less pager.\r\n",
      "\r\n",
      "  The ?/?? system gives access to the full source code for any object (if\r\n",
      "  available), shows function prototypes and other useful information.\r\n",
      "\r\n",
      "  If you just want to see an object's docstring, type '%pdoc object' (without\r\n",
      "  quotes, and without % if you have automagic on).\r\n",
      "\r\n",
      "* Tab completion in the local namespace:\r\n",
      "\r\n",
      "  At any time, hitting tab will complete any available python commands or\r\n",
      "  variable names, and show you a list of the possible completions if there's\r\n",
      "  no unambiguous one. It will also complete filenames in the current directory.\r\n",
      "\r\n",
      "* Search previous command history in multiple ways:\r\n",
      "\n",
      "---Return to continue, q to quit--- \n",
      "\b\b\b\b\b\b\b\b\b\b\b\b\b\b\b\b\b\b\b\b\b\b\b\b\b\b\b\b\b\b\b\b\b\b\b\b\b                                     \b\b\b\b\b\b\b\b\b\b\b\b\b\b\b\b\b\b\b\b\b\b\b\b\b\b\b\b\b\b\b\b\b\b\b\b\b\n",
      "  - Start typing, and then use arrow keys up/down or (Ctrl-p/Ctrl-n) to search\r\n",
      "    through the history items that match what you've typed so far.\r\n",
      "\r\n",
      "  - Hit Ctrl-r: opens a search prompt. Begin typing and the system searches\r\n",
      "    your history for lines that match what you've typed so far, completing as\r\n",
      "    much as it can.\r\n",
      "\r\n",
      "  - %hist: search history by index.\r\n",
      "\r\n",
      "* Persistent command history across sessions.\r\n",
      "\r\n",
      "* Logging of input with the ability to save and restore a working session.\r\n",
      "\r\n",
      "* System shell with !. Typing !ls will run 'ls' in the current directory.\r\n",
      "\r\n",
      "* The reload command does a 'deep' reload of a module: changes made to the\r\n",
      "  module since you imported will actually be available without having to exit.\r\n",
      "\r\n",
      "* Verbose and colored exception traceback printouts. See the magic xmode and\r\n",
      "  xcolor functions for details (just type %magic).\r\n",
      "\r\n",
      "* Input caching system:\r\n",
      "\r\n",
      "  IPython offers numbered prompts (In/Out) with input and output caching. All\r\n",
      "  input is saved and can be retrieved as variables (besides the usual arrow\r\n",
      "  key recall).\r\n",
      "\r\n",
      "  The following GLOBAL variables always exist (so don't overwrite them!):\r\n",
      "  _i: stores previous input.\n",
      "\n",
      "---Return to continue, q to quit--- \n",
      "\b\b\b\b\b\b\b\b\b\b\b\b\b\b\b\b\b\b\b\b\b\b\b\b\b\b\b\b\b\b\b\b\b\b\b\b\b                                     \b\b\b\b\b\b\b\b\b\b\b\b\b\b\b\b\b\b\b\b\b\b\b\b\b\b\b\b\b\b\b\b\b\b\b\b\b\n",
      "  _ii: next previous.\r\n",
      "  _iii: next-next previous.\r\n",
      "  _ih : a list of all input _ih[n] is the input from line n.\r\n",
      "\r\n",
      "  Additionally, global variables named _i<n> are dynamically created (<n>\r\n",
      "  being the prompt counter), such that _i<n> == _ih[<n>]\r\n",
      "\r\n",
      "  For example, what you typed at prompt 14 is available as _i14 and _ih[14].\r\n",
      "\r\n",
      "  You can create macros which contain multiple input lines from this history,\r\n",
      "  for later re-execution, with the %macro function.\r\n",
      "\r\n",
      "  The history function %hist allows you to see any part of your input history\r\n",
      "  by printing a range of the _i variables. Note that inputs which contain\r\n",
      "  magic functions (%) appear in the history with a prepended comment. This is\r\n",
      "  because they aren't really valid Python code, so you can't exec them.\r\n",
      "\r\n",
      "* Output caching system:\r\n",
      "\r\n",
      "  For output that is returned from actions, a system similar to the input\r\n",
      "  cache exists but using _ instead of _i. Only actions that produce a result\r\n",
      "  (NOT assignments, for example) are cached. If you are familiar with\r\n",
      "  Mathematica, IPython's _ variables behave exactly like Mathematica's %\r\n",
      "  variables.\r\n",
      "\r\n",
      "  The following GLOBAL variables always exist (so don't overwrite them!):\r\n",
      "  _ (one underscore): previous output.\r\n",
      "  __ (two underscores): next previous.\r\n",
      "  ___ (three underscores): next-next previous.\n",
      "\n",
      "---Return to continue, q to quit--- \n",
      "\b\b\b\b\b\b\b\b\b\b\b\b\b\b\b\b\b\b\b\b\b\b\b\b\b\b\b\b\b\b\b\b\b\b\b\b\b                                     \b\b\b\b\b\b\b\b\b\b\b\b\b\b\b\b\b\b\b\b\b\b\b\b\b\b\b\b\b\b\b\b\b\b\b\b\b\n",
      "\r\n",
      "  Global variables named _<n> are dynamically created (<n> being the prompt\r\n",
      "  counter), such that the result of output <n> is always available as _<n>.\r\n",
      "\r\n",
      "  Finally, a global dictionary named _oh exists with entries for all lines\r\n",
      "  which generated output.\r\n",
      "\r\n",
      "* Directory history:\r\n",
      "\r\n",
      "  Your history of visited directories is kept in the global list _dh, and the\r\n",
      "  magic %cd command can be used to go to any entry in that list.\r\n",
      "\r\n",
      "* Auto-parentheses and auto-quotes (adapted from Nathan Gray's LazyPython)\r\n",
      "\r\n",
      "  1. Auto-parentheses\r\n",
      "        \r\n",
      "     Callable objects (i.e. functions, methods, etc) can be invoked like\r\n",
      "     this (notice the commas between the arguments)::\r\n",
      "       \r\n",
      "         In [1]: callable_ob arg1, arg2, arg3\r\n",
      "       \r\n",
      "     and the input will be translated to this::\r\n",
      "       \r\n",
      "         callable_ob(arg1, arg2, arg3)\r\n",
      "       \r\n",
      "     This feature is off by default (in rare cases it can produce\r\n",
      "     undesirable side-effects), but you can activate it at the command-line\r\n",
      "     by starting IPython with `--autocall 1`, set it permanently in your\r\n",
      "     configuration file, or turn on at runtime with `%autocall 1`.\n",
      "\n",
      "---Return to continue, q to quit--- \n",
      "\b\b\b\b\b\b\b\b\b\b\b\b\b\b\b\b\b\b\b\b\b\b\b\b\b\b\b\b\b\b\b\b\b\b\b\b\b                                     \b\b\b\b\b\b\b\b\b\b\b\b\b\b\b\b\b\b\b\b\b\b\b\b\b\b\b\b\b\b\b\b\b\b\b\b\b"
     ]
    }
   ],
   "source": [
    "?"
   ]
  },
  {
   "cell_type": "code",
   "execution_count": 5,
   "id": "36e1d3e8",
   "metadata": {},
   "outputs": [
    {
     "data": {
      "text/plain": [
       "Type help() for interactive help, or help(object) for help about object."
      ]
     },
     "execution_count": 5,
     "metadata": {},
     "output_type": "execute_result"
    }
   ],
   "source": [
    "help"
   ]
  },
  {
   "cell_type": "code",
   "execution_count": 6,
   "id": "3fe87587",
   "metadata": {},
   "outputs": [
    {
     "name": "stdout",
     "output_type": "stream",
     "text": [
      "\n"
     ]
    }
   ],
   "source": [
    "help(3)"
   ]
  },
  {
   "cell_type": "code",
   "execution_count": 7,
   "id": "c5da26c3",
   "metadata": {},
   "outputs": [
    {
     "name": "stdout",
     "output_type": "stream",
     "text": [
      "\n"
     ]
    }
   ],
   "source": [
    "help(sum)"
   ]
  },
  {
   "cell_type": "code",
   "execution_count": 9,
   "id": "2ae9645f",
   "metadata": {},
   "outputs": [],
   "source": [
    "a = 'string'"
   ]
  },
  {
   "cell_type": "code",
   "execution_count": 10,
   "id": "1893b1c5",
   "metadata": {},
   "outputs": [
    {
     "data": {
      "text/plain": [
       "['__add__',\n",
       " '__class__',\n",
       " '__contains__',\n",
       " '__delattr__',\n",
       " '__dir__',\n",
       " '__doc__',\n",
       " '__eq__',\n",
       " '__format__',\n",
       " '__ge__',\n",
       " '__getattribute__',\n",
       " '__getitem__',\n",
       " '__getnewargs__',\n",
       " '__getstate__',\n",
       " '__gt__',\n",
       " '__hash__',\n",
       " '__init__',\n",
       " '__init_subclass__',\n",
       " '__iter__',\n",
       " '__le__',\n",
       " '__len__',\n",
       " '__lt__',\n",
       " '__mod__',\n",
       " '__mul__',\n",
       " '__ne__',\n",
       " '__new__',\n",
       " '__reduce__',\n",
       " '__reduce_ex__',\n",
       " '__repr__',\n",
       " '__rmod__',\n",
       " '__rmul__',\n",
       " '__setattr__',\n",
       " '__sizeof__',\n",
       " '__str__',\n",
       " '__subclasshook__',\n",
       " 'capitalize',\n",
       " 'casefold',\n",
       " 'center',\n",
       " 'count',\n",
       " 'encode',\n",
       " 'endswith',\n",
       " 'expandtabs',\n",
       " 'find',\n",
       " 'format',\n",
       " 'format_map',\n",
       " 'index',\n",
       " 'isalnum',\n",
       " 'isalpha',\n",
       " 'isascii',\n",
       " 'isdecimal',\n",
       " 'isdigit',\n",
       " 'isidentifier',\n",
       " 'islower',\n",
       " 'isnumeric',\n",
       " 'isprintable',\n",
       " 'isspace',\n",
       " 'istitle',\n",
       " 'isupper',\n",
       " 'join',\n",
       " 'ljust',\n",
       " 'lower',\n",
       " 'lstrip',\n",
       " 'maketrans',\n",
       " 'partition',\n",
       " 'removeprefix',\n",
       " 'removesuffix',\n",
       " 'replace',\n",
       " 'rfind',\n",
       " 'rindex',\n",
       " 'rjust',\n",
       " 'rpartition',\n",
       " 'rsplit',\n",
       " 'rstrip',\n",
       " 'split',\n",
       " 'splitlines',\n",
       " 'startswith',\n",
       " 'strip',\n",
       " 'swapcase',\n",
       " 'title',\n",
       " 'translate',\n",
       " 'upper',\n",
       " 'zfill']"
      ]
     },
     "execution_count": 10,
     "metadata": {},
     "output_type": "execute_result"
    }
   ],
   "source": [
    "dir(a)"
   ]
  },
  {
   "cell_type": "code",
   "execution_count": 13,
   "id": "d404a485",
   "metadata": {},
   "outputs": [
    {
     "name": "stdout",
     "output_type": "stream",
     "text": [
      "No Python documentation found for 'STRING'.\n",
      "Use help() to get the interactive help utility.\n",
      "Use help(str) for help on the str class.\n",
      "\n",
      "\n"
     ]
    }
   ],
   "source": [
    "help(a.upper())"
   ]
  },
  {
   "cell_type": "code",
   "execution_count": 14,
   "id": "667ac3c3",
   "metadata": {},
   "outputs": [
    {
     "name": "stdout",
     "output_type": "stream",
     "text": [
      "\n"
     ]
    }
   ],
   "source": [
    "help(a.upper)"
   ]
  },
  {
   "cell_type": "code",
   "execution_count": 15,
   "id": "bac97a77",
   "metadata": {},
   "outputs": [
    {
     "name": "stdout",
     "output_type": "stream",
     "text": [
      "\n"
     ]
    }
   ],
   "source": [
    "help(len)"
   ]
  },
  {
   "cell_type": "code",
   "execution_count": 16,
   "id": "c7e954f8",
   "metadata": {},
   "outputs": [
    {
     "name": "stdout",
     "output_type": "stream",
     "text": [
      "\u001b[31mSignature:\u001b[39m len(obj, /)\r\n",
      "\u001b[31mDocstring:\u001b[39m Return the number of items in a container.\r\n",
      "\u001b[31mType:\u001b[39m      builtin_function_or_method\n",
      "\n"
     ]
    }
   ],
   "source": [
    "len?"
   ]
  },
  {
   "cell_type": "code",
   "execution_count": 17,
   "id": "021dbd43",
   "metadata": {},
   "outputs": [
    {
     "name": "stdout",
     "output_type": "stream",
     "text": [
      "\u001b[31mSignature:\u001b[39m a.upper()\r\n",
      "\u001b[31mDocstring:\u001b[39m Return a copy of the string converted to uppercase.\r\n",
      "\u001b[31mType:\u001b[39m      builtin_function_or_method\n",
      "\n"
     ]
    }
   ],
   "source": [
    "a.upper?"
   ]
  },
  {
   "cell_type": "code",
   "execution_count": 18,
   "id": "b701d195",
   "metadata": {},
   "outputs": [
    {
     "name": "stdout",
     "output_type": "stream",
     "text": [
      "\u001b[31mType:\u001b[39m        str\r\n",
      "\u001b[31mString form:\u001b[39m string\r\n",
      "\u001b[31mLength:\u001b[39m      6\r\n",
      "\u001b[31mDocstring:\u001b[39m  \r\n",
      "str(object='') -> str\r\n",
      "str(bytes_or_buffer[, encoding[, errors]]) -> str\r\n",
      "\r\n",
      "Create a new string object from the given object. If encoding or\r\n",
      "errors is specified, then the object must expose a data buffer\r\n",
      "that will be decoded using the given encoding and error handler.\r\n",
      "Otherwise, returns the result of object.__str__() (if defined)\r\n",
      "or repr(object).\r\n",
      "encoding defaults to 'utf-8'.\r\n",
      "errors defaults to 'strict'.\n",
      "\n"
     ]
    }
   ],
   "source": [
    "a?"
   ]
  },
  {
   "cell_type": "code",
   "execution_count": 19,
   "id": "c01345aa",
   "metadata": {},
   "outputs": [],
   "source": [
    "def square(b):\n",
    "    \"\"\"Return the square of b.\"\"\"\n",
    "    return b ** 2\n",
    "    "
   ]
  },
  {
   "cell_type": "code",
   "execution_count": 20,
   "id": "e780cff4",
   "metadata": {},
   "outputs": [
    {
     "name": "stdout",
     "output_type": "stream",
     "text": [
      "\u001b[31mSignature:\u001b[39m square(b)\r\n",
      "\u001b[31mDocstring:\u001b[39m Return the square of b.\r\n",
      "\u001b[31mFile:\u001b[39m      c:\\windows\\system32\\<ipython-input-19-b8cb015606fa>\r\n",
      "\u001b[31mType:\u001b[39m      function\n",
      "\n"
     ]
    }
   ],
   "source": [
    "square?"
   ]
  },
  {
   "cell_type": "code",
   "execution_count": 21,
   "id": "3a909448",
   "metadata": {},
   "outputs": [
    {
     "name": "stdout",
     "output_type": "stream",
     "text": [
      "\u001b[31mSignature:\u001b[39m square(b)\r\n",
      "\u001b[31mSource:\u001b[39m   \r\n",
      "\u001b[38;5;28;01mdef\u001b[39;00m square(b):\r\n",
      "    \u001b[33m\"\"\"Return the square of b.\"\"\"\u001b[39m\r\n",
      "    \u001b[38;5;28;01mreturn\u001b[39;00m b ** \u001b[32m2\u001b[39m\r\n",
      "\u001b[31mFile:\u001b[39m      c:\\windows\\system32\\<ipython-input-19-b8cb015606fa>\r\n",
      "\u001b[31mType:\u001b[39m      function\n",
      "\n"
     ]
    }
   ],
   "source": [
    "square??"
   ]
  },
  {
   "cell_type": "code",
   "execution_count": 22,
   "id": "9c938573",
   "metadata": {},
   "outputs": [
    {
     "name": "stdout",
     "output_type": "stream",
     "text": [
      "\u001b[31mSignature:\u001b[39m len(obj, /)\r\n",
      "\u001b[31mDocstring:\u001b[39m Return the number of items in a container.\r\n",
      "\u001b[31mType:\u001b[39m      builtin_function_or_method\n",
      "\n"
     ]
    }
   ],
   "source": [
    "len??"
   ]
  },
  {
   "cell_type": "code",
   "execution_count": 23,
   "id": "4a97a200",
   "metadata": {},
   "outputs": [
    {
     "name": "stdout",
     "output_type": "stream",
     "text": [
      "\u001b[31mSignature:\u001b[39m len(obj, /)\r\n",
      "\u001b[31mDocstring:\u001b[39m Return the number of items in a container.\r\n",
      "\u001b[31mType:\u001b[39m      builtin_function_or_method\n",
      "\n"
     ]
    }
   ],
   "source": [
    "len?"
   ]
  },
  {
   "cell_type": "code",
   "execution_count": 24,
   "id": "972aff8e",
   "metadata": {},
   "outputs": [
    {
     "name": "stdout",
     "output_type": "stream",
     "text": [
      "Object `numpy` not found.\n",
      "\n"
     ]
    }
   ],
   "source": [
    "numpy??"
   ]
  },
  {
   "cell_type": "code",
   "execution_count": 25,
   "id": "382a962b",
   "metadata": {},
   "outputs": [
    {
     "name": "stdout",
     "output_type": "stream",
     "text": [
      "Object `jupyter` not found.\n",
      "\n"
     ]
    }
   ],
   "source": [
    "jupyter??"
   ]
  },
  {
   "cell_type": "code",
   "execution_count": 27,
   "id": "cc719fcb",
   "metadata": {},
   "outputs": [
    {
     "data": {
      "text/plain": [
       "<function str.upper()>"
      ]
     },
     "execution_count": 27,
     "metadata": {},
     "output_type": "execute_result"
    }
   ],
   "source": [
    "a.upper"
   ]
  },
  {
   "cell_type": "code",
   "execution_count": 28,
   "id": "d08ca2f1",
   "metadata": {},
   "outputs": [
    {
     "data": {
      "text/plain": [
       "'STRING'"
      ]
     },
     "execution_count": 28,
     "metadata": {},
     "output_type": "execute_result"
    }
   ],
   "source": [
    "a.upper()"
   ]
  },
  {
   "cell_type": "code",
   "execution_count": 29,
   "id": "367ba021",
   "metadata": {},
   "outputs": [
    {
     "data": {
      "text/plain": [
       "<function str.capitalize()>"
      ]
     },
     "execution_count": 29,
     "metadata": {},
     "output_type": "execute_result"
    }
   ],
   "source": [
    "a.capitalize"
   ]
  },
  {
   "cell_type": "code",
   "execution_count": 30,
   "id": "879acda1",
   "metadata": {},
   "outputs": [
    {
     "data": {
      "text/plain": [
       "'String'"
      ]
     },
     "execution_count": 30,
     "metadata": {},
     "output_type": "execute_result"
    }
   ],
   "source": [
    "a.capitalize()"
   ]
  }
 ],
 "metadata": {
  "kernelspec": {
   "display_name": "Python 3 (ipykernel)",
   "language": "python",
   "name": "python3"
  },
  "language_info": {
   "codemirror_mode": {
    "name": "ipython",
    "version": 3
   },
   "file_extension": ".py",
   "mimetype": "text/x-python",
   "name": "python",
   "nbconvert_exporter": "python",
   "pygments_lexer": "ipython3",
   "version": "3.13.5"
  }
 },
 "nbformat": 4,
 "nbformat_minor": 5
}
