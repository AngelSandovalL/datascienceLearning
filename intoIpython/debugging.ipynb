{
 "cells": [
  {
   "cell_type": "code",
   "execution_count": 1,
   "id": "b091c744",
   "metadata": {},
   "outputs": [],
   "source": [
    "def func1(a,b):\n",
    "    return a/b\n",
    "    "
   ]
  },
  {
   "cell_type": "code",
   "execution_count": 2,
   "id": "90a46301",
   "metadata": {},
   "outputs": [],
   "source": [
    "def func2(x):\n",
    "    a=x\n",
    "    b=x-1\n",
    "    return func1(a,b)\n",
    "    "
   ]
  },
  {
   "cell_type": "code",
   "execution_count": 3,
   "id": "f9b5dc20",
   "metadata": {},
   "outputs": [
    {
     "ename": "ZeroDivisionError",
     "evalue": "division by zero",
     "output_type": "error",
     "traceback": [
      "\u001b[31m---------------------------------------------------------------------------\u001b[39m",
      "\u001b[31mZeroDivisionError\u001b[39m                         Traceback (most recent call last)",
      "\u001b[36mCell\u001b[39m\u001b[36m \u001b[39m\u001b[32mIn[3]\u001b[39m\u001b[32m, line 1\u001b[39m\n\u001b[32m----> \u001b[39m\u001b[32m1\u001b[39m \u001b[43mfunc2\u001b[49m\u001b[43m(\u001b[49m\u001b[32;43m1\u001b[39;49m\u001b[43m)\u001b[49m\n",
      "\u001b[36mCell\u001b[39m\u001b[36m \u001b[39m\u001b[32mIn[2]\u001b[39m\u001b[32m, line 4\u001b[39m, in \u001b[36mfunc2\u001b[39m\u001b[34m(x)\u001b[39m\n\u001b[32m      2\u001b[39m a=x\n\u001b[32m      3\u001b[39m b=x-\u001b[32m1\u001b[39m\n\u001b[32m----> \u001b[39m\u001b[32m4\u001b[39m \u001b[38;5;28;01mreturn\u001b[39;00m \u001b[43mfunc1\u001b[49m\u001b[43m(\u001b[49m\u001b[43ma\u001b[49m\u001b[43m,\u001b[49m\u001b[43mb\u001b[49m\u001b[43m)\u001b[49m\n",
      "\u001b[36mCell\u001b[39m\u001b[36m \u001b[39m\u001b[32mIn[1]\u001b[39m\u001b[32m, line 2\u001b[39m, in \u001b[36mfunc1\u001b[39m\u001b[34m(a, b)\u001b[39m\n\u001b[32m      1\u001b[39m \u001b[38;5;28;01mdef\u001b[39;00m\u001b[38;5;250m \u001b[39m\u001b[34mfunc1\u001b[39m(a,b):\n\u001b[32m----> \u001b[39m\u001b[32m2\u001b[39m     \u001b[38;5;28;01mreturn\u001b[39;00m \u001b[43ma\u001b[49m\u001b[43m/\u001b[49m\u001b[43mb\u001b[49m\n",
      "\u001b[31mZeroDivisionError\u001b[39m: division by zero"
     ]
    }
   ],
   "source": [
    "func2(1)"
   ]
  },
  {
   "cell_type": "code",
   "execution_count": 4,
   "id": "5344be37",
   "metadata": {},
   "outputs": [
    {
     "name": "stdout",
     "output_type": "stream",
     "text": [
      "Exception reporting mode:",
      " ",
      "Plain",
      "\n"
     ]
    }
   ],
   "source": [
    "%xmode Plain"
   ]
  },
  {
   "cell_type": "code",
   "execution_count": 5,
   "id": "e1243ebb",
   "metadata": {},
   "outputs": [
    {
     "ename": "ZeroDivisionError",
     "evalue": "division by zero",
     "output_type": "error",
     "traceback": [
      "Traceback \u001b[36m(most recent call last)\u001b[39m:\n",
      "  Cell \u001b[92mIn[5]\u001b[39m\u001b[92m, line 1\u001b[39m\n    func2(1)\n",
      "  Cell \u001b[92mIn[2]\u001b[39m\u001b[92m, line 4\u001b[39m in \u001b[95mfunc2\u001b[39m\n    return func1(a,b)\n",
      "\u001b[36m  \u001b[39m\u001b[36mCell\u001b[39m\u001b[36m \u001b[39m\u001b[32mIn[1]\u001b[39m\u001b[32m, line 2\u001b[39m\u001b[36m in \u001b[39m\u001b[35mfunc1\u001b[39m\n\u001b[31m    \u001b[39m\u001b[31mreturn a/b\u001b[39m\n",
      "\u001b[31mZeroDivisionError\u001b[39m\u001b[31m:\u001b[39m division by zero\n"
     ]
    }
   ],
   "source": [
    "func2(1)"
   ]
  },
  {
   "cell_type": "code",
   "execution_count": 6,
   "id": "59658708",
   "metadata": {},
   "outputs": [
    {
     "name": "stdout",
     "output_type": "stream",
     "text": [
      "Exception reporting mode:",
      " ",
      "Verbose",
      "\n"
     ]
    }
   ],
   "source": [
    "%xmode Verbose"
   ]
  },
  {
   "cell_type": "code",
   "execution_count": 7,
   "id": "2f49046c",
   "metadata": {},
   "outputs": [
    {
     "ename": "ZeroDivisionError",
     "evalue": "division by zero",
     "output_type": "error",
     "traceback": [
      "\u001b[31m---------------------------------------------------------------------------\u001b[39m",
      "\u001b[31mZeroDivisionError\u001b[39m                         Traceback (most recent call last)",
      "\u001b[36mCell\u001b[39m\u001b[36m \u001b[39m\u001b[32mIn[7]\u001b[39m\u001b[32m, line 1\u001b[39m\n\u001b[32m----> \u001b[39m\u001b[32m1\u001b[39m \u001b[43mfunc2\u001b[49m\u001b[43m(\u001b[49m\u001b[32;43m1\u001b[39;49m\u001b[43m)\u001b[49m\n",
      "\u001b[36mCell\u001b[39m\u001b[36m \u001b[39m\u001b[32mIn[2]\u001b[39m\u001b[32m, line 4\u001b[39m, in \u001b[36mfunc2\u001b[39m\u001b[34m(x=1)\u001b[39m\n\u001b[32m      2\u001b[39m a=x\n\u001b[32m      3\u001b[39m b=x-\u001b[32m1\u001b[39m\n\u001b[32m----> \u001b[39m\u001b[32m4\u001b[39m \u001b[38;5;28;01mreturn\u001b[39;00m \u001b[43mfunc1\u001b[49m\u001b[43m(\u001b[49m\u001b[43ma\u001b[49m\u001b[43m,\u001b[49m\u001b[43mb\u001b[49m\u001b[43m)\u001b[49m\n        a \u001b[34m= \u001b[39m\u001b[34m1\u001b[39m\n        b \u001b[34m= \u001b[39m\u001b[34m0\u001b[39m",
      "\u001b[36mCell\u001b[39m\u001b[36m \u001b[39m\u001b[32mIn[1]\u001b[39m\u001b[32m, line 2\u001b[39m, in \u001b[36mfunc1\u001b[39m\u001b[34m(a=1, b=0)\u001b[39m\n\u001b[32m      1\u001b[39m \u001b[38;5;28;01mdef\u001b[39;00m\u001b[38;5;250m \u001b[39m\u001b[34mfunc1\u001b[39m(a,b):\n\u001b[32m----> \u001b[39m\u001b[32m2\u001b[39m     \u001b[38;5;28;01mreturn\u001b[39;00m \u001b[43ma\u001b[49m\u001b[43m/\u001b[49m\u001b[43mb\u001b[49m\n        a \u001b[34m= \u001b[39m\u001b[34m1\u001b[39m\n        b \u001b[34m= \u001b[39m\u001b[34m0\u001b[39m",
      "\u001b[31mZeroDivisionError\u001b[39m: division by zero"
     ]
    }
   ],
   "source": [
    "func2(1)"
   ]
  },
  {
   "cell_type": "code",
   "execution_count": 8,
   "id": "ef4aab41",
   "metadata": {},
   "outputs": [
    {
     "name": "stdout",
     "output_type": "stream",
     "text": [
      "> \u001b[32m<ipython-input-1-7796cd12272a>\u001b[39m(\u001b[92m2\u001b[39m)\u001b[36mfunc1\u001b[39m\u001b[34m()\u001b[39m\n\u001b[32m      1\u001b[39m \u001b[38;5;28;01mdef\u001b[39;00m func1(a,b):\n\u001b[32m----> 2\u001b[39m     \u001b[38;5;28;01mreturn\u001b[39;00m a/b\n\u001b[32m      3\u001b[39m \n",
      "\n",
      "1",
      "\n",
      "0",
      "\n"
     ]
    }
   ],
   "source": [
    "%debug"
   ]
  },
  {
   "cell_type": "code",
   "execution_count": 9,
   "id": "19e7efb2",
   "metadata": {},
   "outputs": [
    {
     "name": "stdout",
     "output_type": "stream",
     "text": [
      "> \u001b[32m<ipython-input-1-7796cd12272a>\u001b[39m(\u001b[92m2\u001b[39m)\u001b[36mfunc1\u001b[39m\u001b[34m()\u001b[39m\n\u001b[32m      1\u001b[39m \u001b[38;5;28;01mdef\u001b[39;00m func1(a,b):\n\u001b[32m----> 2\u001b[39m     \u001b[38;5;28;01mreturn\u001b[39;00m a/b\n\u001b[32m      3\u001b[39m \n",
      "\n",
      "> \u001b[32m<ipython-input-2-7543c47781fb>\u001b[39m(\u001b[92m4\u001b[39m)\u001b[36mfunc2\u001b[39m\u001b[34m()\u001b[39m\n\u001b[32m      1\u001b[39m \u001b[38;5;28;01mdef\u001b[39;00m func2(x):\n\u001b[32m      2\u001b[39m     a=x\n\u001b[32m      3\u001b[39m     b=x-\u001b[32m1\u001b[39m\n\u001b[32m----> 4\u001b[39m     \u001b[38;5;28;01mreturn\u001b[39;00m func1(a,b)\n\u001b[32m      5\u001b[39m \n",
      "\n",
      "1",
      "\n",
      "> \u001b[32m<ipython-input-7-7cb498ea7ed1>\u001b[39m(\u001b[92m1\u001b[39m)\u001b[36m<module>\u001b[39m\u001b[34m()\u001b[39m\n\u001b[32m----> 1\u001b[39m func2(\u001b[32m1\u001b[39m)\n",
      "\n",
      "> \u001b[32m<ipython-input-2-7543c47781fb>\u001b[39m(\u001b[92m4\u001b[39m)\u001b[36mfunc2\u001b[39m\u001b[34m()\u001b[39m\n\u001b[32m      1\u001b[39m \u001b[38;5;28;01mdef\u001b[39;00m func2(x):\n\u001b[32m      2\u001b[39m     a=x\n\u001b[32m      3\u001b[39m     b=x-\u001b[32m1\u001b[39m\n\u001b[32m----> 4\u001b[39m     \u001b[38;5;28;01mreturn\u001b[39;00m func1(a,b)\n\u001b[32m      5\u001b[39m \n",
      "\n"
     ]
    }
   ],
   "source": [
    "%debug"
   ]
  },
  {
   "cell_type": "code",
   "execution_count": 10,
   "id": "b1a2618f",
   "metadata": {},
   "outputs": [
    {
     "name": "stdout",
     "output_type": "stream",
     "text": [
      "Automatic pdb calling has been turned",
      " ",
      "ON",
      "\n"
     ]
    }
   ],
   "source": [
    "%pdb on"
   ]
  },
  {
   "cell_type": "code",
   "execution_count": 11,
   "id": "913695ea",
   "metadata": {},
   "outputs": [
    {
     "name": "stdout",
     "output_type": "stream",
     "text": [
      "Exception reporting mode:",
      " ",
      "Plain",
      "\n"
     ]
    }
   ],
   "source": [
    "%xmode Plain"
   ]
  },
  {
   "cell_type": "code",
   "execution_count": 12,
   "id": "3714471e",
   "metadata": {},
   "outputs": [
    {
     "name": "stdout",
     "output_type": "stream",
     "text": [
      "> \u001b[32m<ipython-input-1-7796cd12272a>\u001b[39m(\u001b[92m2\u001b[39m)\u001b[36mfunc1\u001b[39m\u001b[34m()\u001b[39m\n\u001b[32m      1\u001b[39m \u001b[38;5;28;01mdef\u001b[39;00m func1(a,b):\n\u001b[32m----> 2\u001b[39m     \u001b[38;5;28;01mreturn\u001b[39;00m a/b\n\u001b[32m      3\u001b[39m \n",
      "\n",
      "0",
      "\n"
     ]
    },
    {
     "ename": "ZeroDivisionError",
     "evalue": "division by zero",
     "output_type": "error",
     "traceback": [
      "Traceback \u001b[36m(most recent call last)\u001b[39m:\n",
      "  Cell \u001b[92mIn[12]\u001b[39m\u001b[92m, line 1\u001b[39m\n    func2(1)\n",
      "  Cell \u001b[92mIn[2]\u001b[39m\u001b[92m, line 4\u001b[39m in \u001b[95mfunc2\u001b[39m\n    return func1(a,b)\n",
      "\u001b[36m  \u001b[39m\u001b[36mCell\u001b[39m\u001b[36m \u001b[39m\u001b[32mIn[1]\u001b[39m\u001b[32m, line 2\u001b[39m\u001b[36m in \u001b[39m\u001b[35mfunc1\u001b[39m\n\u001b[31m    \u001b[39m\u001b[31mreturn a/b\u001b[39m\n",
      "\u001b[31mZeroDivisionError\u001b[39m\u001b[31m:\u001b[39m division by zero\n"
     ]
    }
   ],
   "source": [
    "func2(1)"
   ]
  },
  {
   "cell_type": "code",
   "execution_count": 13,
   "id": "0a9d0252",
   "metadata": {},
   "outputs": [
    {
     "name": "stdout",
     "output_type": "stream",
     "text": [
      "1",
      " ",
      "Squared is:",
      " ",
      "1",
      "\n",
      "2",
      " ",
      "Squared is:",
      " ",
      "4",
      "\n",
      "3",
      " ",
      "Squared is:",
      " ",
      "9",
      "\n"
     ]
    }
   ],
   "source": [
    "%run myscript.py"
   ]
  },
  {
   "cell_type": "code",
   "execution_count": 14,
   "id": "9514d365",
   "metadata": {},
   "outputs": [
    {
     "name": "stdout",
     "output_type": "stream",
     "text": [
      "***",
      " ",
      "Blank or comment",
      "\n",
      "***",
      " ",
      "Blank or comment",
      "\n",
      "***",
      " ",
      "Blank or comment",
      "\n",
      "***",
      " ",
      "Blank or comment",
      "\n",
      "NOTE: Enter 'c' at the ipdb>  prompt to continue execution.",
      "\n",
      "> \u001b[32md:\\lange\\dev\\datasciencelearning\\intoipython\\myscript.py\u001b[39m(\u001b[92m4\u001b[39m)\u001b[36m<module>\u001b[39m\u001b[34m()\u001b[39m\n\u001b[32m      2\u001b[39m \u001b[38;5;66;03m# file: myscript.py\u001b[39;00m\n\u001b[32m      3\u001b[39m \n\u001b[32m----> 4\u001b[39m \u001b[38;5;28;01mdef\u001b[39;00m square(x):\n\u001b[32m      5\u001b[39m     \u001b[33m\"\"\"Square a number\"\"\"\u001b[39m\n\u001b[32m      6\u001b[39m     \u001b[38;5;28;01mreturn\u001b[39;00m x ** \u001b[32m2\u001b[39m\n",
      "\n",
      "> \u001b[32md:\\lange\\dev\\datasciencelearning\\intoipython\\myscript.py\u001b[39m(\u001b[92m8\u001b[39m)\u001b[36m<module>\u001b[39m\u001b[34m()\u001b[39m\n\u001b[32m      5\u001b[39m     \u001b[33m\"\"\"Square a number\"\"\"\u001b[39m\n\u001b[32m      6\u001b[39m     \u001b[38;5;28;01mreturn\u001b[39;00m x ** \u001b[32m2\u001b[39m\n\u001b[32m      7\u001b[39m \n\u001b[32m----> 8\u001b[39m \u001b[38;5;28;01mfor\u001b[39;00m N \u001b[38;5;28;01min\u001b[39;00m range(\u001b[32m1\u001b[39m,\u001b[32m4\u001b[39m):\n\u001b[32m      9\u001b[39m     print(N,\u001b[33m\"Squared is:\"\u001b[39m, square(N))\n",
      "\n",
      "> \u001b[32md:\\lange\\dev\\datasciencelearning\\intoipython\\myscript.py\u001b[39m(\u001b[92m9\u001b[39m)\u001b[36m<module>\u001b[39m\u001b[34m()\u001b[39m\n\u001b[32m      5\u001b[39m     \u001b[33m\"\"\"Square a number\"\"\"\u001b[39m\n\u001b[32m      6\u001b[39m     \u001b[38;5;28;01mreturn\u001b[39;00m x ** \u001b[32m2\u001b[39m\n\u001b[32m      7\u001b[39m \n\u001b[32m      8\u001b[39m \u001b[38;5;28;01mfor\u001b[39;00m N \u001b[38;5;28;01min\u001b[39;00m range(\u001b[32m1\u001b[39m,\u001b[32m4\u001b[39m):\n\u001b[32m----> 9\u001b[39m     print(N,\u001b[33m\"Squared is:\"\u001b[39m, square(N))\n",
      "\n",
      "1",
      " ",
      "Squared is:",
      " ",
      "1",
      "\n",
      "> \u001b[32md:\\lange\\dev\\datasciencelearning\\intoipython\\myscript.py\u001b[39m(\u001b[92m8\u001b[39m)\u001b[36m<module>\u001b[39m\u001b[34m()\u001b[39m\n\u001b[32m      5\u001b[39m     \u001b[33m\"\"\"Square a number\"\"\"\u001b[39m\n\u001b[32m      6\u001b[39m     \u001b[38;5;28;01mreturn\u001b[39;00m x ** \u001b[32m2\u001b[39m\n\u001b[32m      7\u001b[39m \n\u001b[32m----> 8\u001b[39m \u001b[38;5;28;01mfor\u001b[39;00m N \u001b[38;5;28;01min\u001b[39;00m range(\u001b[32m1\u001b[39m,\u001b[32m4\u001b[39m):\n\u001b[32m      9\u001b[39m     print(N,\u001b[33m\"Squared is:\"\u001b[39m, square(N))\n",
      "\n",
      "> \u001b[32md:\\lange\\dev\\datasciencelearning\\intoipython\\myscript.py\u001b[39m(\u001b[92m9\u001b[39m)\u001b[36m<module>\u001b[39m\u001b[34m()\u001b[39m\n\u001b[32m      5\u001b[39m     \u001b[33m\"\"\"Square a number\"\"\"\u001b[39m\n\u001b[32m      6\u001b[39m     \u001b[38;5;28;01mreturn\u001b[39;00m x ** \u001b[32m2\u001b[39m\n\u001b[32m      7\u001b[39m \n\u001b[32m      8\u001b[39m \u001b[38;5;28;01mfor\u001b[39;00m N \u001b[38;5;28;01min\u001b[39;00m range(\u001b[32m1\u001b[39m,\u001b[32m4\u001b[39m):\n\u001b[32m----> 9\u001b[39m     print(N,\u001b[33m\"Squared is:\"\u001b[39m, square(N))\n",
      "\n"
     ]
    }
   ],
   "source": [
    "%run -d myscript.py"
   ]
  }
 ],
 "metadata": {
  "kernelspec": {
   "display_name": "Python 3 (ipykernel)",
   "language": "python",
   "name": "python3"
  },
  "language_info": {
   "codemirror_mode": {
    "name": "ipython",
    "version": 3
   },
   "file_extension": ".py",
   "mimetype": "text/x-python",
   "name": "python",
   "nbconvert_exporter": "python",
   "pygments_lexer": "ipython3",
   "version": "3.13.5"
  }
 },
 "nbformat": 4,
 "nbformat_minor": 5
}
