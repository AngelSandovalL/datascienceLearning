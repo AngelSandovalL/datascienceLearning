{
 "cells": [
  {
   "cell_type": "code",
   "execution_count": 1,
   "id": "896e8456",
   "metadata": {},
   "outputs": [],
   "source": [
    "from mprun_demo import sum_of_lists"
   ]
  },
  {
   "cell_type": "code",
   "execution_count": 2,
   "id": "b80b5291",
   "metadata": {},
   "outputs": [],
   "source": [
    "%load_ext memory_profiler"
   ]
  },
  {
   "cell_type": "code",
   "execution_count": 3,
   "id": "145cffbe",
   "metadata": {},
   "outputs": [
    {
     "name": "stdout",
     "output_type": "stream",
     "text": [
      "Filename: D:\\lange\\Dev\\datascienceLearning\\intoIpython\\mprun_demo.py\r\n\r\nLine #    Mem usage    Increment  Occurrences   Line Contents\r\n=============================================================\r\n     1     70.9 MiB     70.9 MiB           1   def sum_of_lists(N):\r\n     2     70.9 MiB      0.0 MiB           1       total = 0\r\n     3     73.5 MiB     -0.0 MiB           6       for i in range(5):\r\n     4    111.1 MiB -56736032.8 MiB     5000005           L = [j ^ (j >> i) for j in range(N)]\r\n     5    111.1 MiB     -0.1 MiB           5           total += sum(L)\r\n     6     73.5 MiB   -158.3 MiB           5           del L # remove reference to L\r\n     7     73.5 MiB     -0.0 MiB           1       return total",
      "\n",
      "\n"
     ]
    }
   ],
   "source": [
    "%mprun -f sum_of_lists sum_of_lists(1000000)"
   ]
  },
  {
   "cell_type": "code",
   "execution_count": 4,
   "id": "38c7567b",
   "metadata": {},
   "outputs": [
    {
     "name": "stdout",
     "output_type": "stream",
     "text": [
      "Filename: D:\\lange\\Dev\\datascienceLearning\\intoIpython\\mprun_demo.py\r\n\r\nLine #    Mem usage    Increment  Occurrences   Line Contents\r\n=============================================================\r\n     1     73.6 MiB     73.6 MiB           1   def sum_of_lists(N):\r\n     2     73.6 MiB      0.0 MiB           1       total = 0\r\n     3     73.6 MiB      0.0 MiB           6       for i in range(5):\r\n     4    111.3 MiB -58441527.8 MiB     5000005           L = [j ^ (j >> i) for j in range(N)]\r\n     5    111.3 MiB     -0.0 MiB           5           total += sum(L)\r\n     6     73.6 MiB   -158.3 MiB           5           del L # remove reference to L\r\n     7     73.6 MiB      0.0 MiB           1       return total",
      "\n",
      "\n"
     ]
    }
   ],
   "source": [
    "%mprun -f sum_of_lists sum_of_lists(1000000)"
   ]
  }
 ],
 "metadata": {
  "kernelspec": {
   "display_name": "Python 3 (ipykernel)",
   "language": "python",
   "name": "python3"
  },
  "language_info": {
   "codemirror_mode": {
    "name": "ipython",
    "version": 3
   },
   "file_extension": ".py",
   "mimetype": "text/x-python",
   "name": "python",
   "nbconvert_exporter": "python",
   "pygments_lexer": "ipython3",
   "version": "3.13.5"
  }
 },
 "nbformat": 4,
 "nbformat_minor": 5
}
